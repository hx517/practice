{
 "cells": [
  {
   "cell_type": "code",
   "execution_count": 34,
   "metadata": {
    "collapsed": false
   },
   "outputs": [],
   "source": [
    "import json,urllib2,os,sys\n",
    "import numpy as np\n",
    "import pandas as pd"
   ]
  },
  {
   "cell_type": "code",
   "execution_count": 35,
   "metadata": {
    "collapsed": false
   },
   "outputs": [
    {
     "name": "stdout",
     "output_type": "stream",
     "text": [
      "Invalid number of arguments.\n"
     ]
    },
    {
     "ename": "SystemExit",
     "evalue": "",
     "output_type": "error",
     "traceback": [
      "An exception has occurred, use %tb to see the full traceback.\n",
      "\u001b[0;31mSystemExit\u001b[0m\n"
     ]
    }
   ],
   "source": [
    "if len(sys.argv) <> 4:  \n",
    "    print(\"Invalid number of arguments.\")  \n",
    "    sys.exit()  \n",
    "\n",
    "key = sys.argv[1]\n",
    "busline = sys.argv[2]\n",
    "openfile = open(sys.argv[3],\"w\")\n",
    "\n",
    "url = \"http://bustime.mta.info/api/siri/vehicle-monitoring.json?key=\" + key + \"&VehicleMonitoringDetailLevel=calls&LineRef=\"+busline\n",
    "\n",
    "response = urllib.urlopen(url)  \n",
    "d = response.read().decode(\"utf-8\")  \n",
    "\n",
    "data = json.loads(d)  \n",
    "data = data['Siri']['ServiceDelivery']['VehicleMonitoringDelivery'][0]['VehicleActivity']\n",
    "bus_len = len(data)"
   ]
  },
  {
   "cell_type": "code",
   "execution_count": null,
   "metadata": {
    "collapsed": false
   },
   "outputs": [],
   "source": [
    "openfile.write(\"Latitude,Longitude,Stop Name,Stop Status\\n\")\n",
    "for i in range(bus_len):\n",
    "    lon = data[i]['MonitoredVehicleJourney']['VehicleLocation']['Longitude']\n",
    "    lat = data[i]['MonitoredVehicleJourney']['OnwardCalls'] == []:\n",
    "        sn = 'N/A'\n",
    "        ss = 'N/A'\n",
    "    else:\n",
    "        sn = data[i]['MonitoredVehicleJourney']['onwardCalls']['OnwardCall'][0]['StopPointName']\n",
    "        ss = data[i]['MonitoredVehicleJourney']['OnwardCalls']['OnwardCall'][0]\\\n",
    "        ['Extensions']['Distances']['PresentableDistance']\n",
    "    openfile.write(\"%f,%f,%s,%s\\n\"%(lat, lon, sn, ss))\n",
    "    \n",
    "openfile.close()"
   ]
  }
 ],
 "metadata": {
  "kernelspec": {
   "display_name": "PUI2016_Python2",
   "language": "python",
   "name": "pui2016_python2"
  },
  "language_info": {
   "codemirror_mode": {
    "name": "ipython",
    "version": 2
   },
   "file_extension": ".py",
   "mimetype": "text/x-python",
   "name": "python",
   "nbconvert_exporter": "python",
   "pygments_lexer": "ipython2",
   "version": "2.7.12"
  }
 },
 "nbformat": 4,
 "nbformat_minor": 0
}
