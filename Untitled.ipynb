{
 "cells": [
  {
   "cell_type": "code",
   "execution_count": 1,
   "metadata": {
    "collapsed": false
   },
   "outputs": [
    {
     "ename": "SyntaxError",
     "evalue": "unexpected character after line continuation character (<ipython-input-1-075f4a66e6e1>, line 8)",
     "output_type": "error",
     "traceback": [
      "\u001b[0;36m  File \u001b[0;32m\"<ipython-input-1-075f4a66e6e1>\"\u001b[0;36m, line \u001b[0;32m8\u001b[0m\n\u001b[0;31m    url = \"http://bustime.mta.info/api/siri/vehicle-monitoring.json?key=\" + sys.argv[1] + \\    \"&VehicleMonitoringDetailLevel=calls&LineRef=\" + sys.argv[2]\"\u001b[0m\n\u001b[0m                                                                                                                                                            ^\u001b[0m\n\u001b[0;31mSyntaxError\u001b[0m\u001b[0;31m:\u001b[0m unexpected character after line continuation character\n"
     ]
    }
   ],
   "source": [
    "import sys,json,os\n",
    "\n",
    "try:\n",
    "    import urllib2 as urllib\n",
    "except ImportError:\n",
    "    import urllib.request as urllib\n",
    "\n",
    "url = \"http://bustime.mta.info/api/siri/vehicle-monitoring.json?key=\" + sys.argv[1] + \\\n",
    "    \"&VehicleMonitoringDetailLevel=calls&LineRef=\" + sys.argv[2]\"\n",
    "\n",
    "\n",
    "response = urllib.urlopen(url)\n",
    "data = json.loads(data)\n",
    "data = response.read().decode(\"utf-8\")\n",
    "\n",
    "if not len(sys.argv) == 3:\n",
    "    print (\"Invalid number of arguments.\")\n",
    "    sys.exit()\n",
    "\n",
    "num=data[\"Siri\"][\"ServiceDelivery\"][\"VehicleMonitoringDelivery\"][0][\"VehicleActivity\"]\n",
    "\n",
    "longitude = data[\"Siri\"][\"ServiceDelivery\"][\"VehicleMonitoringDelivery\"][0][\"VehicleActivity\"][0][\"MonitoredVehicleJourney\"][\"VehicleLocation\"][\"Longitude\"]\n",
    "latitude = data[\"Siri\"][\"ServiceDelivery\"][\"VehicleMonitoringDelivery\"][0][\"VehicleActivity\"][0][\"MonitoredVehicleJourney\"][\"VehicleLocation\"][\"Latitude\"]\n",
    "\n",
    "print (\"Bus Line:\",sys.argv[2])\n",
    "print (\"Number of Active Buses:\", len(data[\"Siri\"][\"ServiceDelivery\"][\"VehicleMonitoringDelivery\"][0][\"VehicleActivity\"]))\n",
    "for i in range(len(num)):\n",
    "    print (\"Bus\"+ str(i) +\"is at longitude:\" + str(longitude) + \"and latitude:\" + str(latitude))"
   ]
  }
 ],
 "metadata": {
  "kernelspec": {
   "display_name": "PUI2016_Python2",
   "language": "python",
   "name": "pui2016_python2"
  },
  "language_info": {
   "codemirror_mode": {
    "name": "ipython",
    "version": 2
   },
   "file_extension": ".py",
   "mimetype": "text/x-python",
   "name": "python",
   "nbconvert_exporter": "python",
   "pygments_lexer": "ipython2",
   "version": "2.7.12"
  }
 },
 "nbformat": 4,
 "nbformat_minor": 0
}
